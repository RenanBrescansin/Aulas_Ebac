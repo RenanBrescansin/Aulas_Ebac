{
  "nbformat": 4,
  "nbformat_minor": 0,
  "metadata": {
    "colab": {
      "provenance": []
    },
    "kernelspec": {
      "name": "python3",
      "display_name": "Python 3"
    },
    "language_info": {
      "name": "python"
    }
  },
  "cells": [
    {
      "cell_type": "code",
      "execution_count": null,
      "metadata": {
        "id": "M1TK5trWBg62"
      },
      "outputs": [],
      "source": [
        "#Recebe as informacoes do usuario\n",
        "valor_1 = input(\"Insira o primeiro valor: \")\n",
        "valor_2 = input(\"Insira o segundo valor: \")\n",
        "operador = input(\"insira qual operação você deseja fazer: + , - , * , / \")\n",
        "valor_1 = float(valor_1)\n",
        "valor_2 = float(valor_2)\n",
        "\n",
        "#Executa o calculo com base no operador escolhido\n",
        "if operador == \"+\":\n",
        "  resultado = valor_1 + valor_2\n",
        "  print(\"seu resultado é: \", resultado)\n",
        "elif operador == \"-\":\n",
        "  resultado = valor_1 - valor_2\n",
        "  print(\"seu resultado é: \", resultado)\n",
        "elif operador == \"*\":\n",
        "  resultado = valor_1 * valor_2\n",
        "  print(\"seu resultado é: \", resultado)\n",
        "elif operador == \"/\":\n",
        "  resultado = valor_1 / valor_2\n",
        "  print(\"seu resultado é: \", resultado)\n",
        "else:\n",
        "  print(\"O operador inserido é invalido\")\n",
        "\n",
        "\"\"\"\n",
        "Gostaria de poder verificar se os valores inseridos são validos, e caso fossem\n",
        "digitados errado, como por exemplo digitar uma letra, o código iria informar sobre\n",
        "o erro e solicitar as informações novamente, até serem digitadas corretamente. vou\n",
        "esperar para tentar arrumar essa parte do código mais para frente no curso, por enquanto\n",
        "não consegui pensar em uma forma de fazer isso.\n",
        "\n",
        "#Faz a conferencia se os valores inseridos sao validos\n",
        "if valor_1 or valor_2 == type(str):\n",
        "  while valor_1 or valor_2 == type(str):\n",
        "    print(\"os valores inseridos precisam ser numeros\")\n",
        "    valor_1 = input(\"Insira o primeiro valor\")\n",
        "    valor_2 = input(\"Insira o segundo valor\")\n",
        "\"\"\"\n"
      ]
    }
  ]
}